{
 "cells": [
  {
   "cell_type": "code",
   "execution_count": 1,
   "id": "0b5d16b0-b586-4555-9fff-177ca6b85847",
   "metadata": {},
   "outputs": [],
   "source": [
    "%load_ext autoreload\n",
    "%autoreload 2"
   ]
  },
  {
   "cell_type": "code",
   "execution_count": 2,
   "id": "76f98643-b26d-46e8-bd19-f7c06983504b",
   "metadata": {},
   "outputs": [],
   "source": [
    "import sys\n",
    "sys.path.insert(0,'../code')\n",
    "import utils as ut\n",
    "fn = 'input.txt'"
   ]
  },
  {
   "cell_type": "markdown",
   "id": "f091fe82-7461-4fbf-b9a8-0954f3a77547",
   "metadata": {},
   "source": [
    "## 1"
   ]
  },
  {
   "cell_type": "code",
   "execution_count": 3,
   "id": "3d87f702-f732-415f-9abf-b316227a976d",
   "metadata": {},
   "outputs": [],
   "source": [
    "inp = ut.rl(fn)"
   ]
  },
  {
   "cell_type": "code",
   "execution_count": 4,
   "id": "6340a577-e1c6-4dba-a087-d66fa78264de",
   "metadata": {
    "tags": []
   },
   "outputs": [],
   "source": [
    "Xs = [1]"
   ]
  },
  {
   "cell_type": "code",
   "execution_count": 5,
   "id": "d7a5de03-39a7-40c6-8f4c-562275f0946d",
   "metadata": {},
   "outputs": [],
   "source": [
    "for inst in inp:\n",
    "    if 'noop' in inst:\n",
    "        Xs.append(Xs[-1])\n",
    "    else:\n",
    "        addval = int(inst.split(' ')[1])\n",
    "        Xs.append(Xs[-1])\n",
    "        Xs.append(Xs[-1]+addval)"
   ]
  },
  {
   "cell_type": "code",
   "execution_count": 6,
   "id": "a05d2018-a725-41ae-99d1-b9b1ef0b3dae",
   "metadata": {},
   "outputs": [
    {
     "data": {
      "text/plain": [
       "17380"
      ]
     },
     "execution_count": 6,
     "metadata": {},
     "output_type": "execute_result"
    }
   ],
   "source": [
    "cycles = [20, 60, 100, 140, 180, 220]\n",
    "sumc = 0\n",
    "for cycle in cycles:\n",
    "    sumc += cycle*Xs[cycle-1]\n",
    "sumc"
   ]
  },
  {
   "cell_type": "markdown",
   "id": "046f040f-f637-48d4-bde3-ffe1ee75f1ec",
   "metadata": {},
   "source": [
    "## 2"
   ]
  },
  {
   "cell_type": "code",
   "execution_count": 7,
   "id": "fca14aa0-26b9-43f3-aa83-e69ff2370c81",
   "metadata": {
    "tags": []
   },
   "outputs": [],
   "source": [
    "import numpy as np\n",
    "pixels = [[]]\n",
    "width = 40\n",
    "cycles = np.array(list(range(len(Xs))))\n",
    "for cycle in cycles:\n",
    "    X = Xs[cycle]\n",
    "    pos = cycle%40\n",
    "    sprit_pos = [X-1,X,X+1]\n",
    "    if pos in sprit_pos:\n",
    "        pixel = '#'\n",
    "    else:\n",
    "        pixel = '.'\n",
    "    if (cycle)%width == 0:\n",
    "        pixels.append([pixel])\n",
    "    else:\n",
    "        pixels[-1].extend([pixel])"
   ]
  },
  {
   "cell_type": "code",
   "execution_count": 8,
   "id": "fd75d530-2388-4de4-b528-b4c888b0223c",
   "metadata": {},
   "outputs": [
    {
     "name": "stdout",
     "output_type": "stream",
     "text": [
      "\n",
      "####..##...##..#..#.####.###..####..##..\n",
      "#....#..#.#..#.#..#....#.#..#.#....#..#.\n",
      "###..#....#....#..#...#..#..#.###..#....\n",
      "#....#.##.#....#..#..#...###..#....#....\n",
      "#....#..#.#..#.#..#.#....#.#..#....#..#.\n",
      "#.....###..##...##..####.#..#.####..##..\n",
      ".\n"
     ]
    }
   ],
   "source": [
    "[print(''.join(p)) for p in pixels];"
   ]
  }
 ],
 "metadata": {
  "kernelspec": {
   "display_name": "Python 3 (ipykernel)",
   "language": "python",
   "name": "python3"
  },
  "language_info": {
   "codemirror_mode": {
    "name": "ipython",
    "version": 3
   },
   "file_extension": ".py",
   "mimetype": "text/x-python",
   "name": "python",
   "nbconvert_exporter": "python",
   "pygments_lexer": "ipython3",
   "version": "3.10.8"
  }
 },
 "nbformat": 4,
 "nbformat_minor": 5
}
