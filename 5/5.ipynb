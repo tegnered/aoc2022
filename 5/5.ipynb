{
 "cells": [
  {
   "cell_type": "code",
   "execution_count": 1,
   "id": "0b5d16b0-b586-4555-9fff-177ca6b85847",
   "metadata": {},
   "outputs": [],
   "source": [
    "%load_ext autoreload\n",
    "%autoreload 2"
   ]
  },
  {
   "cell_type": "code",
   "execution_count": 2,
   "id": "76f98643-b26d-46e8-bd19-f7c06983504b",
   "metadata": {},
   "outputs": [],
   "source": [
    "import sys\n",
    "sys.path.insert(0,'../code')\n",
    "import utils as ut\n",
    "fn = 'input.txt'"
   ]
  },
  {
   "cell_type": "markdown",
   "id": "f091fe82-7461-4fbf-b9a8-0954f3a77547",
   "metadata": {},
   "source": [
    "## 1"
   ]
  },
  {
   "cell_type": "code",
   "execution_count": 3,
   "id": "3d87f702-f732-415f-9abf-b316227a976d",
   "metadata": {},
   "outputs": [],
   "source": [
    "inp = ut.rl(fn)"
   ]
  },
  {
   "cell_type": "code",
   "execution_count": 4,
   "id": "0eb2cdd6-9a67-40f0-9f07-2a4f42746420",
   "metadata": {},
   "outputs": [],
   "source": [
    "crates = inp[:8]\n",
    "moves = inp[10:]"
   ]
  },
  {
   "cell_type": "code",
   "execution_count": 5,
   "id": "70b83753-b7e2-4c9f-b779-b8e809f88658",
   "metadata": {},
   "outputs": [
    {
     "data": {
      "text/plain": [
       "['[N]             [R]             [C]',\n",
       " '[T] [J]         [S] [J]         [N]',\n",
       " '[B] [Z]     [H] [M] [Z]         [D]',\n",
       " '[S] [P]     [G] [L] [H] [Z]     [T]',\n",
       " '[Q] [D]     [F] [D] [V] [L] [S] [M]',\n",
       " '[H] [F] [V] [J] [C] [W] [P] [W] [L]',\n",
       " '[G] [S] [H] [Z] [Z] [T] [F] [V] [H]',\n",
       " '[R] [H] [Z] [M] [T] [M] [T] [Q] [W]']"
      ]
     },
     "execution_count": 5,
     "metadata": {},
     "output_type": "execute_result"
    }
   ],
   "source": [
    "crates"
   ]
  },
  {
   "cell_type": "code",
   "execution_count": 6,
   "id": "7612e843-1964-4bcd-8556-a6d0b9c06c59",
   "metadata": {},
   "outputs": [],
   "source": [
    "import numpy as np\n",
    "def parse_stacks(crates):\n",
    "    stacks = [[] for i in range(9)]\n",
    "    for i,row in enumerate(crates):\n",
    "        for j,l in enumerate(list(np.array(list(row))[list(range(1,35,4))])):\n",
    "            if l != ' ':\n",
    "                stacks[j].append(l)\n",
    "    return stacks"
   ]
  },
  {
   "cell_type": "code",
   "execution_count": 7,
   "id": "20fe92ef-e83e-47b5-927e-3366e5c49596",
   "metadata": {},
   "outputs": [],
   "source": [
    "stacks = parse_stacks(crates)"
   ]
  },
  {
   "cell_type": "code",
   "execution_count": 8,
   "id": "b665c180-bf1d-41e6-a49d-e4b33a71701c",
   "metadata": {},
   "outputs": [
    {
     "data": {
      "text/plain": [
       "[['N', 'T', 'B', 'S', 'Q', 'H', 'G', 'R'],\n",
       " ['J', 'Z', 'P', 'D', 'F', 'S', 'H'],\n",
       " ['V', 'H', 'Z'],\n",
       " ['H', 'G', 'F', 'J', 'Z', 'M'],\n",
       " ['R', 'S', 'M', 'L', 'D', 'C', 'Z', 'T'],\n",
       " ['J', 'Z', 'H', 'V', 'W', 'T', 'M'],\n",
       " ['Z', 'L', 'P', 'F', 'T'],\n",
       " ['S', 'W', 'V', 'Q'],\n",
       " ['C', 'N', 'D', 'T', 'M', 'L', 'H', 'W']]"
      ]
     },
     "execution_count": 8,
     "metadata": {},
     "output_type": "execute_result"
    }
   ],
   "source": [
    "stacks"
   ]
  },
  {
   "cell_type": "code",
   "execution_count": 9,
   "id": "b7c621a3-40ac-41a7-8a4f-8786e149579c",
   "metadata": {},
   "outputs": [],
   "source": [
    "def move_crate(stacks,fr,to):\n",
    "    fr -= 1\n",
    "    to -= 1\n",
    "    to_move = stacks[fr][0]\n",
    "    stacks[fr] = stacks[fr][1:]\n",
    "    stacks[to] = [to_move] + stacks[to]\n",
    "    return stacks"
   ]
  },
  {
   "cell_type": "code",
   "execution_count": 10,
   "id": "ccc18e25-6069-4095-86e5-e3e8a1fa394c",
   "metadata": {
    "tags": []
   },
   "outputs": [],
   "source": [
    "for move in moves:\n",
    "    move = move.split(' ')\n",
    "    times = int(move[1])\n",
    "    fr = int(move[3])\n",
    "    to = int(move[5])\n",
    "    for i in range(times):\n",
    "        stacks = move_crate(stacks,fr,to)\n",
    "        #print(stacks)"
   ]
  },
  {
   "cell_type": "code",
   "execution_count": 11,
   "id": "a8512fa8-6bd9-4811-b7f0-52455e6161df",
   "metadata": {},
   "outputs": [
    {
     "data": {
      "text/plain": [
       "'PTWLTDSJV'"
      ]
     },
     "execution_count": 11,
     "metadata": {},
     "output_type": "execute_result"
    }
   ],
   "source": [
    "''.join([stack[0] for stack in stacks])"
   ]
  },
  {
   "cell_type": "markdown",
   "id": "046f040f-f637-48d4-bde3-ffe1ee75f1ec",
   "metadata": {},
   "source": [
    "## 2"
   ]
  },
  {
   "cell_type": "code",
   "execution_count": 12,
   "id": "7bdec01c-c6fa-486d-acaa-a98e1baaf726",
   "metadata": {},
   "outputs": [],
   "source": [
    "stacks = parse_stacks(crates)"
   ]
  },
  {
   "cell_type": "code",
   "execution_count": 13,
   "id": "a0766d6d-cb79-4efa-9964-8090df709960",
   "metadata": {},
   "outputs": [],
   "source": [
    "def move_crates(stacks,fr,to,num):\n",
    "    fr -= 1\n",
    "    to -= 1\n",
    "    to_move = stacks[fr][0:num]\n",
    "    stacks[fr] = stacks[fr][num:]\n",
    "    stacks[to] = to_move + stacks[to]\n",
    "    return stacks"
   ]
  },
  {
   "cell_type": "code",
   "execution_count": 14,
   "id": "0ffb0d20-bde3-4c1f-93c3-f9231e24650d",
   "metadata": {},
   "outputs": [],
   "source": [
    "for move in moves:\n",
    "    move = move.split(' ')\n",
    "    times = int(move[1])\n",
    "    fr = int(move[3])\n",
    "    to = int(move[5])\n",
    "    stacks = move_crates(stacks,fr,to,times)"
   ]
  },
  {
   "cell_type": "code",
   "execution_count": 15,
   "id": "8cc30ff9-444d-4a8a-8b9f-fc1f90e58182",
   "metadata": {},
   "outputs": [
    {
     "data": {
      "text/plain": [
       "'WZMFVGGZP'"
      ]
     },
     "execution_count": 15,
     "metadata": {},
     "output_type": "execute_result"
    }
   ],
   "source": [
    "''.join([stack[0] for stack in stacks])"
   ]
  },
  {
   "cell_type": "code",
   "execution_count": null,
   "id": "775298fa-5847-4044-97a6-2a44b0f9f9f7",
   "metadata": {},
   "outputs": [],
   "source": []
  }
 ],
 "metadata": {
  "kernelspec": {
   "display_name": "Python 3 (ipykernel)",
   "language": "python",
   "name": "python3"
  },
  "language_info": {
   "codemirror_mode": {
    "name": "ipython",
    "version": 3
   },
   "file_extension": ".py",
   "mimetype": "text/x-python",
   "name": "python",
   "nbconvert_exporter": "python",
   "pygments_lexer": "ipython3",
   "version": "3.10.2"
  }
 },
 "nbformat": 4,
 "nbformat_minor": 5
}
