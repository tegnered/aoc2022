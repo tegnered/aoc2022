{
 "cells": [
  {
   "cell_type": "code",
   "execution_count": 1,
   "id": "bbd41834-54ea-4791-9e75-5de92f9fed0d",
   "metadata": {},
   "outputs": [],
   "source": [
    "import sys\n",
    "sys.path.insert(0,'../code')"
   ]
  },
  {
   "cell_type": "code",
   "execution_count": 2,
   "id": "61f7d006-01f2-499a-a379-105d61cb0f6d",
   "metadata": {},
   "outputs": [],
   "source": [
    "import utils as ut"
   ]
  },
  {
   "cell_type": "markdown",
   "id": "7d553e88-2ea8-469a-ad03-0c9839bb5133",
   "metadata": {},
   "source": [
    "## 1"
   ]
  },
  {
   "cell_type": "code",
   "execution_count": 8,
   "id": "f5fa914b-8069-4a3d-b2f7-90ff6979530b",
   "metadata": {},
   "outputs": [],
   "source": [
    "cals = [[]]\n",
    "for n in [int(n) if len(n)>0 else -1 for n in ut.rl('input.txt')]:\n",
    "    if n >= 0:\n",
    "        cals[-1].append(n)\n",
    "    else:\n",
    "        cals.append([])"
   ]
  },
  {
   "cell_type": "code",
   "execution_count": 14,
   "id": "c0dd3c62-7d73-425c-b29d-cd25e777d17d",
   "metadata": {},
   "outputs": [
    {
     "data": {
      "text/plain": [
       "67622"
      ]
     },
     "execution_count": 14,
     "metadata": {},
     "output_type": "execute_result"
    }
   ],
   "source": [
    "max([sum(cal) for cal in cals])"
   ]
  },
  {
   "cell_type": "markdown",
   "id": "0bea94a8-c2e6-4c2c-9fb7-08861fa285d7",
   "metadata": {},
   "source": [
    "## 2"
   ]
  },
  {
   "cell_type": "code",
   "execution_count": 19,
   "id": "32797f8e-2980-4c55-8686-219ed0ac4bb1",
   "metadata": {},
   "outputs": [
    {
     "data": {
      "text/plain": [
       "201491"
      ]
     },
     "execution_count": 19,
     "metadata": {},
     "output_type": "execute_result"
    }
   ],
   "source": [
    "sum(sorted([sum(cal) for cal in cals])[-3:])"
   ]
  }
 ],
 "metadata": {
  "kernelspec": {
   "display_name": "Python 3 (ipykernel)",
   "language": "python",
   "name": "python3"
  },
  "language_info": {
   "codemirror_mode": {
    "name": "ipython",
    "version": 3
   },
   "file_extension": ".py",
   "mimetype": "text/x-python",
   "name": "python",
   "nbconvert_exporter": "python",
   "pygments_lexer": "ipython3",
   "version": "3.10.8"
  }
 },
 "nbformat": 4,
 "nbformat_minor": 5
}
