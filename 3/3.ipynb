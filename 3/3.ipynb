{
 "cells": [
  {
   "cell_type": "code",
   "execution_count": 1,
   "id": "0b5d16b0-b586-4555-9fff-177ca6b85847",
   "metadata": {},
   "outputs": [],
   "source": [
    "%load_ext autoreload\n",
    "%autoreload 2"
   ]
  },
  {
   "cell_type": "code",
   "execution_count": 2,
   "id": "76f98643-b26d-46e8-bd19-f7c06983504b",
   "metadata": {},
   "outputs": [],
   "source": [
    "import sys\n",
    "sys.path.insert(0,'../code')\n",
    "import utils as ut\n",
    "fn = 'input.txt'"
   ]
  },
  {
   "cell_type": "markdown",
   "id": "f091fe82-7461-4fbf-b9a8-0954f3a77547",
   "metadata": {},
   "source": [
    "## 1"
   ]
  },
  {
   "cell_type": "code",
   "execution_count": 4,
   "id": "3d87f702-f732-415f-9abf-b316227a976d",
   "metadata": {},
   "outputs": [],
   "source": [
    "inp = ut.rl(fn)"
   ]
  },
  {
   "cell_type": "code",
   "execution_count": 17,
   "id": "ba7ce45e-9713-4fb9-8e5a-cfb2b3032e36",
   "metadata": {},
   "outputs": [],
   "source": [
    "import string\n",
    "prios = {}\n",
    "for i,letter in enumerate(string.ascii_lowercase + string.ascii_uppercase):\n",
    "    prios[letter] = i + 1"
   ]
  },
  {
   "cell_type": "code",
   "execution_count": 20,
   "id": "9b886215-45cc-41f1-8025-df1c4d7a4383",
   "metadata": {},
   "outputs": [],
   "source": [
    "totprios = 0\n",
    "for ruck in inp:\n",
    "    comp1 = ruck[:int(len(ruck)/2)]\n",
    "    comp2 = ruck[int(len(ruck)/2):]\n",
    "    totprios += prios[[it for it in comp1 if it in comp2][0]]"
   ]
  },
  {
   "cell_type": "code",
   "execution_count": 21,
   "id": "ff1b1b02-ca86-455c-82cf-1b51f4f6682c",
   "metadata": {},
   "outputs": [
    {
     "name": "stdout",
     "output_type": "stream",
     "text": [
      "7581\n"
     ]
    }
   ],
   "source": [
    "print(totprios)"
   ]
  },
  {
   "cell_type": "markdown",
   "id": "046f040f-f637-48d4-bde3-ffe1ee75f1ec",
   "metadata": {},
   "source": [
    "## 2"
   ]
  },
  {
   "cell_type": "code",
   "execution_count": 33,
   "id": "450aaad0-d371-4b08-a478-f27135dbe8b2",
   "metadata": {},
   "outputs": [
    {
     "name": "stdout",
     "output_type": "stream",
     "text": [
      "2525\n"
     ]
    }
   ],
   "source": [
    "totprios = 0\n",
    "for i in range(0,len(inp),3):\n",
    "    elf1 = inp[i]\n",
    "    elf2 = inp[i+1]\n",
    "    elf3 = inp[i+2]\n",
    "    letter = [it for it in elf1 if it in elf2 and it in elf3][0]\n",
    "    totprios += prios[letter]\n",
    "print(totprios)"
   ]
  }
 ],
 "metadata": {
  "kernelspec": {
   "display_name": "Python 3 (ipykernel)",
   "language": "python",
   "name": "python3"
  },
  "language_info": {
   "codemirror_mode": {
    "name": "ipython",
    "version": 3
   },
   "file_extension": ".py",
   "mimetype": "text/x-python",
   "name": "python",
   "nbconvert_exporter": "python",
   "pygments_lexer": "ipython3",
   "version": "3.10.2"
  }
 },
 "nbformat": 4,
 "nbformat_minor": 5
}
