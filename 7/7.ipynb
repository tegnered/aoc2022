{
 "cells": [
  {
   "cell_type": "code",
   "execution_count": 1,
   "id": "0b5d16b0-b586-4555-9fff-177ca6b85847",
   "metadata": {},
   "outputs": [],
   "source": [
    "%load_ext autoreload\n",
    "%autoreload 2"
   ]
  },
  {
   "cell_type": "code",
   "execution_count": 2,
   "id": "76f98643-b26d-46e8-bd19-f7c06983504b",
   "metadata": {},
   "outputs": [],
   "source": [
    "import sys\n",
    "sys.path.insert(0,'../code')\n",
    "import utils as ut\n",
    "fn = 'input.txt'"
   ]
  },
  {
   "cell_type": "markdown",
   "id": "f091fe82-7461-4fbf-b9a8-0954f3a77547",
   "metadata": {},
   "source": [
    "## 1"
   ]
  },
  {
   "cell_type": "code",
   "execution_count": 3,
   "id": "3d87f702-f732-415f-9abf-b316227a976d",
   "metadata": {},
   "outputs": [],
   "source": [
    "inp = ut.rl(fn)"
   ]
  },
  {
   "cell_type": "code",
   "execution_count": 4,
   "id": "4c285ec3-b520-4ff3-9ef2-11e0915d167f",
   "metadata": {
    "tags": []
   },
   "outputs": [],
   "source": [
    "files = []\n",
    "path = []\n",
    "for com in inp:\n",
    "    coms = com.split(' ')\n",
    "    if coms[0] == '$':\n",
    "        if coms[1] == 'ls':\n",
    "            continue\n",
    "        if coms[1] == 'cd':\n",
    "            if coms[2] == '..':\n",
    "                path = path[:-1]\n",
    "            else:\n",
    "                path.append(coms[2])\n",
    "    elif coms[0] == 'dir':\n",
    "        pass\n",
    "    else:\n",
    "        if coms[0] == 'dir':\n",
    "            pass\n",
    "        files.append([path,str(path),[str(path[:i+1]) for i,p in enumerate(path)],coms[1],int(coms[0])])"
   ]
  },
  {
   "cell_type": "code",
   "execution_count": 15,
   "id": "cb5e2904-7704-4709-b801-d46e2e637751",
   "metadata": {},
   "outputs": [
    {
     "data": {
      "text/plain": [
       "1611443"
      ]
     },
     "execution_count": 15,
     "metadata": {},
     "output_type": "execute_result"
    }
   ],
   "source": [
    "import pandas as pd\n",
    "df = pd.DataFrame(files,columns = ['path','strpath','subpaths','file','size'])\n",
    "df = df.drop_duplicates(subset=['strpath','file'])\n",
    "foldersizes = df.explode(column = 'subpaths')[['subpaths','size']].groupby('subpaths').sum()\n",
    "foldersizes[foldersizes['size']<=100000]['size'].sum()"
   ]
  },
  {
   "cell_type": "markdown",
   "id": "046f040f-f637-48d4-bde3-ffe1ee75f1ec",
   "metadata": {},
   "source": [
    "## 2"
   ]
  },
  {
   "cell_type": "code",
   "execution_count": 14,
   "id": "4ad29c49-4dee-4cf5-964d-9cb23401e188",
   "metadata": {},
   "outputs": [
    {
     "data": {
      "text/plain": [
       "2086088"
      ]
     },
     "execution_count": 14,
     "metadata": {},
     "output_type": "execute_result"
    }
   ],
   "source": [
    "free = 70000000 - foldersizes['size'].max()\n",
    "need = 30000000\n",
    "tofree = need-free\n",
    "foldersizes[foldersizes['size']>=tofree]['size'].min()"
   ]
  },
  {
   "cell_type": "code",
   "execution_count": null,
   "id": "4df66720-5b44-47c7-a28a-e9a680b47d57",
   "metadata": {},
   "outputs": [],
   "source": []
  }
 ],
 "metadata": {
  "kernelspec": {
   "display_name": "Python 3 (ipykernel)",
   "language": "python",
   "name": "python3"
  },
  "language_info": {
   "codemirror_mode": {
    "name": "ipython",
    "version": 3
   },
   "file_extension": ".py",
   "mimetype": "text/x-python",
   "name": "python",
   "nbconvert_exporter": "python",
   "pygments_lexer": "ipython3",
   "version": "3.10.2"
  }
 },
 "nbformat": 4,
 "nbformat_minor": 5
}
