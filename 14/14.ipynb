{
 "cells": [
  {
   "cell_type": "code",
   "execution_count": 1,
   "id": "0b5d16b0-b586-4555-9fff-177ca6b85847",
   "metadata": {},
   "outputs": [],
   "source": [
    "%load_ext autoreload\n",
    "%autoreload 2"
   ]
  },
  {
   "cell_type": "code",
   "execution_count": 2,
   "id": "76f98643-b26d-46e8-bd19-f7c06983504b",
   "metadata": {},
   "outputs": [],
   "source": [
    "import sys\n",
    "sys.path.insert(0,'../code')\n",
    "import utils as ut\n",
    "fn = 'input.txt'"
   ]
  },
  {
   "cell_type": "markdown",
   "id": "f091fe82-7461-4fbf-b9a8-0954f3a77547",
   "metadata": {},
   "source": [
    "## 1"
   ]
  },
  {
   "cell_type": "code",
   "execution_count": 3,
   "id": "3d87f702-f732-415f-9abf-b316227a976d",
   "metadata": {},
   "outputs": [],
   "source": [
    "inp = ut.rl(fn)"
   ]
  },
  {
   "cell_type": "code",
   "execution_count": 4,
   "id": "6320d5fd-1087-413d-9093-1756f7483a6e",
   "metadata": {
    "tags": []
   },
   "outputs": [],
   "source": [
    "totcoords = []\n",
    "for lines in inp:\n",
    "    coords = lines.split(' -> ')\n",
    "    for i in range(len(coords)-1):\n",
    "        coord1 = [int(c) for c in coords[i].split(',')]\n",
    "        coord2 = [int(c) for c in coords[i+1].split(',')]\n",
    "        step1, step2 = 1,1\n",
    "        if coord1[0] > coord2[0]:\n",
    "            step1 = -1\n",
    "        if coord1[1] > coord2[1]:\n",
    "            step2 = -1\n",
    "        l1 = list(range(coord1[0],coord2[0]+step1,step1))\n",
    "        l2 = list(range(coord1[1],coord2[1]+step2,step2))\n",
    "        lenl1 = len(l1)\n",
    "        lenl2 = len(l2)\n",
    "        l1 = l1*lenl2\n",
    "        l2 = l2*lenl1\n",
    "        cs = list(zip(l2,l1))\n",
    "        #print(cs)\n",
    "        totcoords.extend(cs)"
   ]
  },
  {
   "cell_type": "code",
   "execution_count": 5,
   "id": "9c43df0f-9fbd-4d03-ae48-c9f9c895838f",
   "metadata": {},
   "outputs": [],
   "source": [
    "import numpy as np\n",
    "#np.array(totcoords).min(axis = 0)\n",
    "roof = np.zeros(np.array(totcoords).max(axis = 0)+np.array([1,1]))"
   ]
  },
  {
   "cell_type": "code",
   "execution_count": 6,
   "id": "0a35d89b-cd36-431a-9e45-b577d44ac0ba",
   "metadata": {},
   "outputs": [],
   "source": [
    "for coord in totcoords:\n",
    "    roof[coord] = 1"
   ]
  },
  {
   "cell_type": "code",
   "execution_count": 7,
   "id": "65feec6b-5e61-4a68-815e-673331c6f394",
   "metadata": {},
   "outputs": [],
   "source": [
    "from dataclasses import dataclass\n",
    "from typing import Callable\n",
    "from typing import List\n",
    "\n",
    "@dataclass\n",
    "class Sand:\n",
    "    x: int \n",
    "    y: int\n",
    "    fallen: bool = False\n",
    "    \n",
    "    def move(self):\n",
    "        while True:\n",
    "            try:\n",
    "                #print('move!')\n",
    "                if roof[self.y+1,self.x] == 0:\n",
    "                    self.y += 1\n",
    "                elif roof[self.y+1,self.x-1] == 0:\n",
    "                    self.x -= 1\n",
    "                    self.y += 1\n",
    "                elif roof[self.y+1,self.x+1] == 0:\n",
    "                    self.x += 1\n",
    "                    self.y += 1\n",
    "                else:\n",
    "                    roof[self.y,self.x] = 2\n",
    "                    #print(f'At rest at {self.y,self.x}')\n",
    "                    break\n",
    "            except:\n",
    "                print('OoB')\n",
    "                self.fallen = True\n",
    "                break\n",
    "                "
   ]
  },
  {
   "cell_type": "code",
   "execution_count": 8,
   "id": "c32196b4-5a8c-4e82-9dbc-5ac670b09d45",
   "metadata": {
    "tags": []
   },
   "outputs": [
    {
     "name": "stdout",
     "output_type": "stream",
     "text": [
      "OoB\n"
     ]
    }
   ],
   "source": [
    "sands = 0\n",
    "while True:\n",
    "    s = Sand(500,0)\n",
    "    sands += 1\n",
    "    s.move()\n",
    "    if s.fallen:\n",
    "        sands -= 1\n",
    "        break"
   ]
  },
  {
   "cell_type": "code",
   "execution_count": 9,
   "id": "ea7dcfff-c58c-4b92-81c6-5f9c88896349",
   "metadata": {},
   "outputs": [
    {
     "data": {
      "text/plain": [
       "1072"
      ]
     },
     "execution_count": 9,
     "metadata": {},
     "output_type": "execute_result"
    }
   ],
   "source": [
    "sands"
   ]
  },
  {
   "cell_type": "code",
   "execution_count": 10,
   "id": "ff5ad8cb-d0f9-4503-8e8e-f3010c9a61dc",
   "metadata": {},
   "outputs": [
    {
     "data": {
      "text/plain": [
       "<matplotlib.image.AxesImage at 0x189442be440>"
      ]
     },
     "execution_count": 10,
     "metadata": {},
     "output_type": "execute_result"
    },
    {
     "data": {
      "image/png": "[encoded data removed]",
      "text/plain": [
       "<Figure size 640x480 with 1 Axes>"
      ]
     },
     "metadata": {},
     "output_type": "display_data"
    }
   ],
   "source": [
    "import matplotlib.pyplot as plt\n",
    "plt.imshow(roof)"
   ]
  },
  {
   "cell_type": "markdown",
   "id": "046f040f-f637-48d4-bde3-ffe1ee75f1ec",
   "metadata": {},
   "source": [
    "## 2"
   ]
  },
  {
   "cell_type": "code",
   "execution_count": 11,
   "id": "72ba28e3-0690-49bf-8b3f-c9c3701ad070",
   "metadata": {},
   "outputs": [],
   "source": [
    "x = list(range(0,1000))"
   ]
  },
  {
   "cell_type": "code",
   "execution_count": 12,
   "id": "fcc4ed53-ec9e-4fe8-837c-6abe354f6e70",
   "metadata": {},
   "outputs": [],
   "source": [
    "y = [np.array(totcoords).max(axis = 0)[0]+2]*len(x)"
   ]
  },
  {
   "cell_type": "code",
   "execution_count": 13,
   "id": "89f75467-1d7e-4b24-ab66-c9117d84e197",
   "metadata": {
    "tags": []
   },
   "outputs": [],
   "source": [
    "totcoords.extend(list(zip(y,x)))"
   ]
  },
  {
   "cell_type": "code",
   "execution_count": 14,
   "id": "31b881b7-3302-49cd-9ba6-91cbd6df65d1",
   "metadata": {},
   "outputs": [],
   "source": [
    "import numpy as np\n",
    "roof = np.zeros(np.array(totcoords).max(axis = 0)+np.array([1,1]))"
   ]
  },
  {
   "cell_type": "code",
   "execution_count": 15,
   "id": "1fdac993-3532-4441-aee4-bdc232203029",
   "metadata": {},
   "outputs": [],
   "source": [
    "for coord in totcoords:\n",
    "    roof[coord] = 1"
   ]
  },
  {
   "cell_type": "code",
   "execution_count": 16,
   "id": "339a25ff-725d-44cc-8a08-a2e2475fbfa4",
   "metadata": {},
   "outputs": [
    {
     "data": {
      "text/plain": [
       "<matplotlib.image.AxesImage at 0x18944bd5900>"
      ]
     },
     "execution_count": 16,
     "metadata": {},
     "output_type": "execute_result"
    },
    {
     "data": {
      "image/png": "[encoded data removed]",
      "text/plain": [
       "<Figure size 640x480 with 1 Axes>"
      ]
     },
     "metadata": {},
     "output_type": "display_data"
    }
   ],
   "source": [
    "plt.imshow(roof)"
   ]
  },
  {
   "cell_type": "code",
   "execution_count": 17,
   "id": "30321eac-c1f4-4ed9-a5ba-0d674887ee95",
   "metadata": {
    "tags": []
   },
   "outputs": [],
   "source": [
    "sands = 0\n",
    "while True:\n",
    "    s = Sand(500,0)\n",
    "    sands += 1\n",
    "    s.move()\n",
    "    if s.fallen:\n",
    "        sands -= 1\n",
    "        print('Not supposed to happen!')\n",
    "        break\n",
    "    elif roof[0,500] == 2:\n",
    "        break"
   ]
  },
  {
   "cell_type": "code",
   "execution_count": 18,
   "id": "5f7095db-561d-459b-97d2-987ebca8b8b2",
   "metadata": {},
   "outputs": [
    {
     "data": {
      "text/plain": [
       "24659"
      ]
     },
     "execution_count": 18,
     "metadata": {},
     "output_type": "execute_result"
    }
   ],
   "source": [
    "sands"
   ]
  },
  {
   "cell_type": "code",
   "execution_count": 19,
   "id": "3e1fd443-e7ca-4e0f-9f10-bed07f50d396",
   "metadata": {},
   "outputs": [
    {
     "data": {
      "text/plain": [
       "<matplotlib.image.AxesImage at 0x18944eb7d00>"
      ]
     },
     "execution_count": 19,
     "metadata": {},
     "output_type": "execute_result"
    },
    {
     "data": {
      "image/png": "[encoded data removed]",
      "text/plain": [
       "<Figure size 640x480 with 1 Axes>"
      ]
     },
     "metadata": {},
     "output_type": "display_data"
    }
   ],
   "source": [
    "plt.imshow(roof)"
   ]
  },
  {
   "cell_type": "code",
   "execution_count": null,
   "id": "8c84e320-7e05-416a-9429-3b23626d6631",
   "metadata": {},
   "outputs": [],
   "source": []
  }
 ],
 "metadata": {
  "kernelspec": {
   "display_name": "Python 3 (ipykernel)",
   "language": "python",
   "name": "python3"
  },
  "language_info": {
   "codemirror_mode": {
    "name": "ipython",
    "version": 3
   },
   "file_extension": ".py",
   "mimetype": "text/x-python",
   "name": "python",
   "nbconvert_exporter": "python",
   "pygments_lexer": "ipython3",
   "version": "3.10.8"
  }
 },
 "nbformat": 4,
 "nbformat_minor": 5
}
