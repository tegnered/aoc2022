{
 "cells": [
  {
   "cell_type": "code",
   "execution_count": 1,
   "id": "0b5d16b0-b586-4555-9fff-177ca6b85847",
   "metadata": {},
   "outputs": [],
   "source": [
    "%load_ext autoreload\n",
    "%autoreload 2"
   ]
  },
  {
   "cell_type": "code",
   "execution_count": 2,
   "id": "76f98643-b26d-46e8-bd19-f7c06983504b",
   "metadata": {},
   "outputs": [],
   "source": [
    "import sys\n",
    "sys.path.insert(0,'../code')\n",
    "import utils as ut\n",
    "fn = 'input.txt'"
   ]
  },
  {
   "cell_type": "markdown",
   "id": "f091fe82-7461-4fbf-b9a8-0954f3a77547",
   "metadata": {},
   "source": [
    "## 1"
   ]
  },
  {
   "cell_type": "code",
   "execution_count": 6,
   "id": "3d87f702-f732-415f-9abf-b316227a976d",
   "metadata": {},
   "outputs": [],
   "source": [
    "inp = ut.rl(fn)[0]"
   ]
  },
  {
   "cell_type": "code",
   "execution_count": 13,
   "id": "ecb34f3f-3038-49a3-82cb-7b5818881b16",
   "metadata": {},
   "outputs": [],
   "source": [
    "import numpy as np\n",
    "inp = np.array([i for i in inp])"
   ]
  },
  {
   "cell_type": "code",
   "execution_count": 16,
   "id": "379649af-b670-4ddc-816f-13427a52ae14",
   "metadata": {},
   "outputs": [
    {
     "data": {
      "text/plain": [
       "array(['b', 'v', 's', ..., 'c', 'm', 'p'], dtype='<U1')"
      ]
     },
     "execution_count": 16,
     "metadata": {},
     "output_type": "execute_result"
    }
   ],
   "source": [
    "inp"
   ]
  },
  {
   "cell_type": "code",
   "execution_count": 21,
   "id": "6720c57c-5f30-4955-bd82-c09be3c86fd7",
   "metadata": {},
   "outputs": [],
   "source": [
    "for i in range(4,len(inp)):\n",
    "    if len(set(inp[i-4:i])) == 4:\n",
    "         break"
   ]
  },
  {
   "cell_type": "code",
   "execution_count": 22,
   "id": "36b8c00b-30f5-451e-9507-f4da4eb1909c",
   "metadata": {},
   "outputs": [
    {
     "data": {
      "text/plain": [
       "1929"
      ]
     },
     "execution_count": 22,
     "metadata": {},
     "output_type": "execute_result"
    }
   ],
   "source": [
    "i"
   ]
  },
  {
   "cell_type": "markdown",
   "id": "046f040f-f637-48d4-bde3-ffe1ee75f1ec",
   "metadata": {},
   "source": [
    "## 2"
   ]
  },
  {
   "cell_type": "code",
   "execution_count": 26,
   "id": "87940ba7-c195-486a-93ef-fc8ac0740c90",
   "metadata": {},
   "outputs": [],
   "source": [
    "length = 14\n",
    "for i in range(length,len(inp)):\n",
    "    if len(set(inp[i-length:i])) == length:\n",
    "         break"
   ]
  },
  {
   "cell_type": "code",
   "execution_count": 27,
   "id": "b79fa174-e605-4eae-94e5-299661a60768",
   "metadata": {},
   "outputs": [
    {
     "data": {
      "text/plain": [
       "3298"
      ]
     },
     "execution_count": 27,
     "metadata": {},
     "output_type": "execute_result"
    }
   ],
   "source": [
    "i"
   ]
  },
  {
   "cell_type": "code",
   "execution_count": null,
   "id": "ec1e29a9-e2c6-46e1-b030-db7caebf8ff9",
   "metadata": {},
   "outputs": [],
   "source": []
  }
 ],
 "metadata": {
  "kernelspec": {
   "display_name": "Python 3 (ipykernel)",
   "language": "python",
   "name": "python3"
  },
  "language_info": {
   "codemirror_mode": {
    "name": "ipython",
    "version": 3
   },
   "file_extension": ".py",
   "mimetype": "text/x-python",
   "name": "python",
   "nbconvert_exporter": "python",
   "pygments_lexer": "ipython3",
   "version": "3.10.2"
  }
 },
 "nbformat": 4,
 "nbformat_minor": 5
}
