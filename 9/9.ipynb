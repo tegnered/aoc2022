{
 "cells": [
  {
   "cell_type": "code",
   "execution_count": 1,
   "id": "0b5d16b0-b586-4555-9fff-177ca6b85847",
   "metadata": {},
   "outputs": [],
   "source": [
    "%load_ext autoreload\n",
    "%autoreload 2"
   ]
  },
  {
   "cell_type": "code",
   "execution_count": 2,
   "id": "76f98643-b26d-46e8-bd19-f7c06983504b",
   "metadata": {},
   "outputs": [],
   "source": [
    "import sys\n",
    "sys.path.insert(0,'../code')\n",
    "import utils as ut\n",
    "fn = 'input.txt'"
   ]
  },
  {
   "cell_type": "markdown",
   "id": "f091fe82-7461-4fbf-b9a8-0954f3a77547",
   "metadata": {},
   "source": [
    "## 1"
   ]
  },
  {
   "cell_type": "code",
   "execution_count": 3,
   "id": "3d87f702-f732-415f-9abf-b316227a976d",
   "metadata": {},
   "outputs": [],
   "source": [
    "inp = ut.rl(fn)"
   ]
  },
  {
   "cell_type": "code",
   "execution_count": 4,
   "id": "7501487b-4a47-45ed-9d24-cb5a86fcd0c9",
   "metadata": {},
   "outputs": [],
   "source": [
    "import numpy as np\n",
    "head_pos = np.array([0,0])\n",
    "tail_pos = np.array([0,0])\n",
    "tail_poss = []"
   ]
  },
  {
   "cell_type": "code",
   "execution_count": 5,
   "id": "1ab99006-dbdf-4aa7-a310-02ad86eedc87",
   "metadata": {
    "tags": []
   },
   "outputs": [],
   "source": [
    "for inst in inp:\n",
    "    dir, dist = inst.split(' ')\n",
    "    dist = int(dist)\n",
    "    for i in range(dist):\n",
    "        if dir == 'R':\n",
    "            head_pos[0] += 1\n",
    "        elif dir == 'L':\n",
    "            head_pos[0] -= 1\n",
    "        elif dir == 'U':\n",
    "            head_pos[1] += 1\n",
    "        elif dir == 'D':\n",
    "            head_pos[1] -= 1         \n",
    "        \n",
    "        posdiff = head_pos - tail_pos\n",
    "        \n",
    "        if posdiff[1] == 0 or posdiff[0] == 0:\n",
    "            move = np.array([int(p/2) for p in posdiff])\n",
    "            tail_pos += move\n",
    "        elif abs(posdiff[0])<=1 and abs(posdiff[1])<=1:\n",
    "            move = [0,0]\n",
    "        else:\n",
    "            move = np.array([int(p/2) if abs(p) == 2 else p for p in posdiff])\n",
    "            tail_pos += move\n",
    "        tail_poss.append([tail_pos[0],tail_pos[1]])"
   ]
  },
  {
   "cell_type": "code",
   "execution_count": 6,
   "id": "1648b565-617d-41e6-b227-3a59ed7a37a0",
   "metadata": {},
   "outputs": [
    {
     "data": {
      "text/plain": [
       "6391"
      ]
     },
     "execution_count": 6,
     "metadata": {},
     "output_type": "execute_result"
    }
   ],
   "source": [
    "len(set([str(p) for p in tail_poss]))"
   ]
  },
  {
   "cell_type": "code",
   "execution_count": 7,
   "id": "bf417d88-9481-4956-be4e-2af7749c753e",
   "metadata": {},
   "outputs": [],
   "source": [
    "def plot_movement(v):\n",
    "    ymin = np.array(v)[:,1].min()\n",
    "    ymax = np.array(v)[:,1].max()\n",
    "    xmin = np.array(v)[:,0].min()\n",
    "    xmax = np.array(v)[:,0].max()\n",
    "    mat = np.zeros((xmax-xmin+1,ymax-ymin+1))\n",
    "    for pos in v:\n",
    "        mat[pos[0]-xmin,pos[1]-ymin] = 1\n",
    "    print(mat)"
   ]
  },
  {
   "cell_type": "code",
   "execution_count": 8,
   "id": "9b44ef53-bbe2-414c-b353-f3480c055726",
   "metadata": {},
   "outputs": [
    {
     "name": "stdout",
     "output_type": "stream",
     "text": [
      "[[0. 0. 0. ... 0. 0. 0.]\n",
      " [0. 0. 0. ... 0. 0. 0.]\n",
      " [0. 0. 0. ... 0. 0. 0.]\n",
      " ...\n",
      " [0. 0. 0. ... 0. 0. 0.]\n",
      " [0. 0. 0. ... 0. 0. 0.]\n",
      " [0. 0. 0. ... 0. 0. 0.]]\n"
     ]
    }
   ],
   "source": [
    "plot_movement(tail_poss)"
   ]
  },
  {
   "cell_type": "markdown",
   "id": "046f040f-f637-48d4-bde3-ffe1ee75f1ec",
   "metadata": {},
   "source": [
    "## 2"
   ]
  },
  {
   "cell_type": "code",
   "execution_count": 9,
   "id": "79400597-4647-4675-9d79-6980efd7a984",
   "metadata": {},
   "outputs": [],
   "source": [
    "def move_segment(head_pos,tail_pos):\n",
    "    head_pos = np.array(head_pos)\n",
    "    tail_pos = np.array(tail_pos)\n",
    "    posdiff = head_pos - tail_pos\n",
    "\n",
    "    if posdiff[1] == 0 or posdiff[0] == 0:\n",
    "        move = np.array([int(p/2) for p in posdiff])\n",
    "        tail_pos += move\n",
    "    elif abs(posdiff[0])<=1 and abs(posdiff[1])<=1:\n",
    "        move = [0,0]\n",
    "    else:\n",
    "        move = np.array([int(p/2) if abs(p) == 2 else p for p in posdiff])\n",
    "        tail_pos += move\n",
    "    return [tail_pos[0],tail_pos[1]]"
   ]
  },
  {
   "cell_type": "code",
   "execution_count": 10,
   "id": "5a00e4bc-f467-44bc-a9f6-7bc5a990397d",
   "metadata": {
    "tags": []
   },
   "outputs": [],
   "source": [
    "fn = 'input.txt'\n",
    "inp = ut.rl(fn)\n",
    "positions = [[0,0],[0,0],[0,0],[0,0],[0,0],[0,0],[0,0],[0,0],[0,0],[0,0]]\n",
    "tail_poss = []\n",
    "for inst in inp:\n",
    "    dir, dist = inst.split(' ')\n",
    "    dist = int(dist)\n",
    "    for i in range(dist):\n",
    "        if dir == 'R':\n",
    "            positions[0][0] += 1\n",
    "        elif dir == 'L':\n",
    "            positions[0][0] -= 1\n",
    "        elif dir == 'U':\n",
    "            positions[0][1] += 1\n",
    "        elif dir == 'D':\n",
    "            positions[0][1] -= 1 \n",
    "        for i,position in enumerate(positions):\n",
    "            if i == 0:\n",
    "                continue\n",
    "            positions[i] = move_segment(positions[i-1],positions[i])\n",
    "            #print(positions)\n",
    "        tail_poss.append(positions[-1])"
   ]
  },
  {
   "cell_type": "code",
   "execution_count": 11,
   "id": "ee6cfc57-1892-4eb8-9c87-ecde11143ed1",
   "metadata": {},
   "outputs": [
    {
     "data": {
      "text/plain": [
       "2593"
      ]
     },
     "execution_count": 11,
     "metadata": {},
     "output_type": "execute_result"
    }
   ],
   "source": [
    "len(set([str(p) for p in tail_poss]))"
   ]
  },
  {
   "cell_type": "code",
   "execution_count": null,
   "id": "fca14aa0-26b9-43f3-aa83-e69ff2370c81",
   "metadata": {},
   "outputs": [],
   "source": []
  }
 ],
 "metadata": {
  "kernelspec": {
   "display_name": "Python 3 (ipykernel)",
   "language": "python",
   "name": "python3"
  },
  "language_info": {
   "codemirror_mode": {
    "name": "ipython",
    "version": 3
   },
   "file_extension": ".py",
   "mimetype": "text/x-python",
   "name": "python",
   "nbconvert_exporter": "python",
   "pygments_lexer": "ipython3",
   "version": "3.10.2"
  }
 },
 "nbformat": 4,
 "nbformat_minor": 5
}
