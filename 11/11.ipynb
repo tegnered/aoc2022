{
 "cells": [
  {
   "cell_type": "code",
   "execution_count": 1,
   "id": "0b5d16b0-b586-4555-9fff-177ca6b85847",
   "metadata": {},
   "outputs": [],
   "source": [
    "%load_ext autoreload\n",
    "%autoreload 2"
   ]
  },
  {
   "cell_type": "code",
   "execution_count": 2,
   "id": "76f98643-b26d-46e8-bd19-f7c06983504b",
   "metadata": {},
   "outputs": [],
   "source": [
    "import sys\n",
    "sys.path.insert(0,'../code')\n",
    "import utils as ut\n",
    "fn = 'input.txt'"
   ]
  },
  {
   "cell_type": "markdown",
   "id": "f091fe82-7461-4fbf-b9a8-0954f3a77547",
   "metadata": {},
   "source": [
    "## 1"
   ]
  },
  {
   "cell_type": "code",
   "execution_count": 3,
   "id": "3d87f702-f732-415f-9abf-b316227a976d",
   "metadata": {},
   "outputs": [],
   "source": [
    "inp = ut.rl(fn)"
   ]
  },
  {
   "cell_type": "code",
   "execution_count": 4,
   "id": "159cd155-826b-496f-ac74-779a4e10caad",
   "metadata": {
    "tags": []
   },
   "outputs": [],
   "source": [
    "inp = [i for i in inp if i != '']"
   ]
  },
  {
   "cell_type": "code",
   "execution_count": 5,
   "id": "907dc439-261a-4bc7-80f2-b048b6522d1b",
   "metadata": {
    "collapsed": true,
    "jupyter": {
     "outputs_hidden": true
    },
    "tags": []
   },
   "outputs": [
    {
     "data": {
      "text/plain": [
       "['Monkey 0:',\n",
       " 'Starting items: 63, 57',\n",
       " 'Operation: new = old * 11',\n",
       " 'Test: divisible by 7',\n",
       " 'If true: throw to monkey 6',\n",
       " 'If false: throw to monkey 2',\n",
       " 'Monkey 1:',\n",
       " 'Starting items: 82, 66, 87, 78, 77, 92, 83',\n",
       " 'Operation: new = old + 1',\n",
       " 'Test: divisible by 11',\n",
       " 'If true: throw to monkey 5',\n",
       " 'If false: throw to monkey 0',\n",
       " 'Monkey 2:',\n",
       " 'Starting items: 97, 53, 53, 85, 58, 54',\n",
       " 'Operation: new = old * 7',\n",
       " 'Test: divisible by 13',\n",
       " 'If true: throw to monkey 4',\n",
       " 'If false: throw to monkey 3',\n",
       " 'Monkey 3:',\n",
       " 'Starting items: 50',\n",
       " 'Operation: new = old + 3',\n",
       " 'Test: divisible by 3',\n",
       " 'If true: throw to monkey 1',\n",
       " 'If false: throw to monkey 7',\n",
       " 'Monkey 4:',\n",
       " 'Starting items: 64, 69, 52, 65, 73',\n",
       " 'Operation: new = old + 6',\n",
       " 'Test: divisible by 17',\n",
       " 'If true: throw to monkey 3',\n",
       " 'If false: throw to monkey 7',\n",
       " 'Monkey 5:',\n",
       " 'Starting items: 57, 91, 65',\n",
       " 'Operation: new = old + 5',\n",
       " 'Test: divisible by 2',\n",
       " 'If true: throw to monkey 0',\n",
       " 'If false: throw to monkey 6',\n",
       " 'Monkey 6:',\n",
       " 'Starting items: 67, 91, 84, 78, 60, 69, 99, 83',\n",
       " 'Operation: new = old * old',\n",
       " 'Test: divisible by 5',\n",
       " 'If true: throw to monkey 2',\n",
       " 'If false: throw to monkey 4',\n",
       " 'Monkey 7:',\n",
       " 'Starting items: 58, 78, 69, 65',\n",
       " 'Operation: new = old + 7',\n",
       " 'Test: divisible by 19',\n",
       " 'If true: throw to monkey 5',\n",
       " 'If false: throw to monkey 1']"
      ]
     },
     "execution_count": 5,
     "metadata": {},
     "output_type": "execute_result"
    }
   ],
   "source": [
    "inp"
   ]
  },
  {
   "cell_type": "code",
   "execution_count": 6,
   "id": "3e1913d2-9550-4260-a30d-aaec6da9e3e1",
   "metadata": {},
   "outputs": [],
   "source": [
    "monkeys = []\n",
    "for i in inp:\n",
    "    if 'Monkey' in i:\n",
    "        monkeys.append([i])\n",
    "    else:\n",
    "        monkeys[-1].extend([i])"
   ]
  },
  {
   "cell_type": "code",
   "execution_count": 7,
   "id": "0243ca2c-8049-4be8-a762-1f20321b05a9",
   "metadata": {},
   "outputs": [],
   "source": [
    "from dataclasses import dataclass\n",
    "from typing import Callable\n",
    "from typing import List\n",
    "\n",
    "@dataclass\n",
    "class Monkey:\n",
    "    name: str\n",
    "    items: List[int]\n",
    "    test_div_by: int \n",
    "    operation: Callable[[int], int]\n",
    "    true_throw: int\n",
    "    false_throw: int\n",
    "    inspections: int = 0\n",
    "    \n",
    "    def turn(self):\n",
    "        throws = []\n",
    "        for item in self.items:\n",
    "            self.inspections += 1\n",
    "            item = int(self.operation(item)/3)\n",
    "            if item%self.test_div_by == 0:\n",
    "                throws.append([self.true_throw,item])\n",
    "            else:\n",
    "                throws.append([self.false_throw,item])\n",
    "        self.items = []\n",
    "        return throws\n",
    "    \n",
    "    def recieve(self, item):\n",
    "        self.items.append(item)"
   ]
  },
  {
   "cell_type": "code",
   "execution_count": 8,
   "id": "8618b437-eefc-4f33-9e64-2ad513a5e02b",
   "metadata": {
    "tags": []
   },
   "outputs": [],
   "source": [
    "monkey_objs = []"
   ]
  },
  {
   "cell_type": "code",
   "execution_count": 9,
   "id": "3a36a781-d43a-405f-907e-b38366921f7e",
   "metadata": {},
   "outputs": [],
   "source": [
    "for monkey in monkeys:\n",
    "    items = monkey[1].replace(',','').split(' ')[2:]\n",
    "    items = [int(i) for i in items]\n",
    "    monkey_objs.append(Monkey(monkey[0][:-1],items,int(monkey[3].split(' ')[-1]),eval('lambda old:'+monkey[2][17:]),int(monkey[4].split(' ')[-1]),int(monkey[5].split(' ')[-1])))"
   ]
  },
  {
   "cell_type": "code",
   "execution_count": 10,
   "id": "34bd3259-7a7d-423a-97a6-6b74b7e7bd87",
   "metadata": {},
   "outputs": [
    {
     "data": {
      "text/plain": [
       "[Monkey(name='Monkey 0', items=[63, 57], test_div_by=7, operation=<function <lambda> at 0x00000158EDCC7F40>, true_throw=6, false_throw=2, inspections=0),\n",
       " Monkey(name='Monkey 1', items=[82, 66, 87, 78, 77, 92, 83], test_div_by=11, operation=<function <lambda> at 0x00000158EDD44040>, true_throw=5, false_throw=0, inspections=0),\n",
       " Monkey(name='Monkey 2', items=[97, 53, 53, 85, 58, 54], test_div_by=13, operation=<function <lambda> at 0x00000158EDD440D0>, true_throw=4, false_throw=3, inspections=0),\n",
       " Monkey(name='Monkey 3', items=[50], test_div_by=3, operation=<function <lambda> at 0x00000158EDD44160>, true_throw=1, false_throw=7, inspections=0),\n",
       " Monkey(name='Monkey 4', items=[64, 69, 52, 65, 73], test_div_by=17, operation=<function <lambda> at 0x00000158EDD441F0>, true_throw=3, false_throw=7, inspections=0),\n",
       " Monkey(name='Monkey 5', items=[57, 91, 65], test_div_by=2, operation=<function <lambda> at 0x00000158EDD44280>, true_throw=0, false_throw=6, inspections=0),\n",
       " Monkey(name='Monkey 6', items=[67, 91, 84, 78, 60, 69, 99, 83], test_div_by=5, operation=<function <lambda> at 0x00000158EDD44310>, true_throw=2, false_throw=4, inspections=0),\n",
       " Monkey(name='Monkey 7', items=[58, 78, 69, 65], test_div_by=19, operation=<function <lambda> at 0x00000158EDD443A0>, true_throw=5, false_throw=1, inspections=0)]"
      ]
     },
     "execution_count": 10,
     "metadata": {},
     "output_type": "execute_result"
    }
   ],
   "source": [
    "monkey_objs"
   ]
  },
  {
   "cell_type": "code",
   "execution_count": 11,
   "id": "50a58d92-ad1a-4c78-89b3-99d555c15610",
   "metadata": {},
   "outputs": [],
   "source": [
    "for round in range(20):\n",
    "    for monkey in monkey_objs:\n",
    "        throws = monkey.turn()\n",
    "        #print(throws)\n",
    "        for throw in throws:\n",
    "            monkey_objs[throw[0]].recieve(throw[1])"
   ]
  },
  {
   "cell_type": "code",
   "execution_count": 12,
   "id": "dc941613-1761-427d-9698-cfcd8eb7dbb5",
   "metadata": {},
   "outputs": [
    {
     "data": {
      "text/plain": [
       "[Monkey(name='Monkey 0', items=[79, 3, 6, 5, 3, 3, 3, 3, 5, 5, 3, 3, 3, 3, 1, 3, 6, 6, 6, 6, 6, 6, 24], test_div_by=7, operation=<function <lambda> at 0x00000158EDCC7F40>, true_throw=6, false_throw=2, inspections=313),\n",
       " Monkey(name='Monkey 1', items=[9, 3, 18, 18, 18, 9, 9, 3, 15, 9, 74, 3], test_div_by=11, operation=<function <lambda> at 0x00000158EDD44040>, true_throw=5, false_throw=0, inspections=338),\n",
       " Monkey(name='Monkey 2', items=[5040458320], test_div_by=13, operation=<function <lambda> at 0x00000158EDD440D0>, true_throw=4, false_throw=3, inspections=319),\n",
       " Monkey(name='Monkey 3', items=[], test_div_by=3, operation=<function <lambda> at 0x00000158EDD44160>, true_throw=1, false_throw=7, inspections=314),\n",
       " Monkey(name='Monkey 4', items=[], test_div_by=17, operation=<function <lambda> at 0x00000158EDD441F0>, true_throw=3, false_throw=7, inspections=30),\n",
       " Monkey(name='Monkey 5', items=[], test_div_by=2, operation=<function <lambda> at 0x00000158EDD44280>, true_throw=0, false_throw=6, inspections=19),\n",
       " Monkey(name='Monkey 6', items=[], test_div_by=5, operation=<function <lambda> at 0x00000158EDD44310>, true_throw=2, false_throw=4, inspections=38),\n",
       " Monkey(name='Monkey 7', items=[], test_div_by=19, operation=<function <lambda> at 0x00000158EDD443A0>, true_throw=5, false_throw=1, inspections=101)]"
      ]
     },
     "execution_count": 12,
     "metadata": {},
     "output_type": "execute_result"
    }
   ],
   "source": [
    "monkey_objs"
   ]
  },
  {
   "cell_type": "code",
   "execution_count": 13,
   "id": "8f9b06cd-1661-4a00-a584-08fad19871a7",
   "metadata": {},
   "outputs": [],
   "source": [
    "insps = []\n",
    "for monkey in monkey_objs:\n",
    "    insps.append(monkey.inspections)"
   ]
  },
  {
   "cell_type": "code",
   "execution_count": 14,
   "id": "78372619-ca6b-490f-8cb2-8370bdd08f13",
   "metadata": {},
   "outputs": [
    {
     "data": {
      "text/plain": [
       "107822"
      ]
     },
     "execution_count": 14,
     "metadata": {},
     "output_type": "execute_result"
    }
   ],
   "source": [
    "sorted(insps)[-1]*sorted(insps)[-2]"
   ]
  },
  {
   "cell_type": "markdown",
   "id": "046f040f-f637-48d4-bde3-ffe1ee75f1ec",
   "metadata": {},
   "source": [
    "## 2"
   ]
  },
  {
   "cell_type": "code",
   "execution_count": 15,
   "id": "46449802-5eeb-43d6-9aba-1d8a750f6b61",
   "metadata": {},
   "outputs": [],
   "source": [
    "fn = 'input.txt'\n",
    "inp = ut.rl(fn)"
   ]
  },
  {
   "cell_type": "code",
   "execution_count": 16,
   "id": "5402b160-395f-473f-ab5b-a0f8b1eb73a1",
   "metadata": {
    "tags": []
   },
   "outputs": [],
   "source": [
    "inp = [i for i in inp if i != '']"
   ]
  },
  {
   "cell_type": "code",
   "execution_count": 17,
   "id": "8a589c4a-9b86-4415-b4eb-7b1e47bd5fa8",
   "metadata": {},
   "outputs": [],
   "source": [
    "monkeys = []\n",
    "for i in inp:\n",
    "    if 'Monkey' in i:\n",
    "        monkeys.append([i])\n",
    "    else:\n",
    "        monkeys[-1].extend([i])"
   ]
  },
  {
   "cell_type": "code",
   "execution_count": 18,
   "id": "1b49410b-e350-490c-9e24-6508f06a9a27",
   "metadata": {},
   "outputs": [
    {
     "name": "stdout",
     "output_type": "stream",
     "text": [
      "7\n",
      "11\n",
      "13\n",
      "3\n",
      "17\n",
      "2\n",
      "5\n",
      "19\n"
     ]
    }
   ],
   "source": [
    "modulo = 1\n",
    "for monkey in monkeys:\n",
    "    print(int(monkey[3].split(' ')[3]))\n",
    "    modulo *= int(monkey[3].split(' ')[3])"
   ]
  },
  {
   "cell_type": "code",
   "execution_count": 19,
   "id": "55a68b8b-3448-4c86-9428-349a75655899",
   "metadata": {},
   "outputs": [
    {
     "data": {
      "text/plain": [
       "9699690"
      ]
     },
     "execution_count": 19,
     "metadata": {},
     "output_type": "execute_result"
    }
   ],
   "source": [
    "modulo"
   ]
  },
  {
   "cell_type": "code",
   "execution_count": 20,
   "id": "b2738397-a8dc-457d-a1d3-1fd4478eb01f",
   "metadata": {},
   "outputs": [],
   "source": [
    "from dataclasses import dataclass\n",
    "from typing import Callable, List\n",
    "import numpy as np\n",
    "   \n",
    "@dataclass\n",
    "class Monkey3:\n",
    "    name: str\n",
    "    items: List[int]\n",
    "    test_div_by: int \n",
    "    operation: Callable[[int], int]\n",
    "    true_throw: int\n",
    "    false_throw: int\n",
    "    inspections: int = 0\n",
    "    \n",
    "    def turn(self):\n",
    "        throws = []\n",
    "        for item in self.items:\n",
    "            self.inspections += 1\n",
    "            item = int(self.operation(item)%modulo)\n",
    "            if item%self.test_div_by == 0:\n",
    "                throws.append([self.true_throw,item])\n",
    "            else:\n",
    "                throws.append([self.false_throw,item])\n",
    "        self.items = []\n",
    "        return throws\n",
    "    \n",
    "    def recieve(self, item):\n",
    "        self.items.append(item)"
   ]
  },
  {
   "cell_type": "code",
   "execution_count": 21,
   "id": "a31cc263-e765-4bc4-b134-52fdfa8f069a",
   "metadata": {
    "tags": []
   },
   "outputs": [],
   "source": [
    "monkey_objs = []"
   ]
  },
  {
   "cell_type": "code",
   "execution_count": 22,
   "id": "ea458da2-3ea8-4bf6-b181-06c796aa50d1",
   "metadata": {},
   "outputs": [],
   "source": [
    "for monkey in monkeys:\n",
    "    items = monkey[1].replace(',','').split(' ')[2:]\n",
    "    items = [int(i) for i in items]\n",
    "    monkey_objs.append(Monkey3(monkey[0][:-1],items,int(monkey[3].split(' ')[-1]),eval('lambda old:'+monkey[2][17:]),int(monkey[4].split(' ')[-1]),int(monkey[5].split(' ')[-1])))"
   ]
  },
  {
   "cell_type": "code",
   "execution_count": 23,
   "id": "c0e58c2b-dcf0-4c83-84f3-262dda08ab30",
   "metadata": {},
   "outputs": [
    {
     "data": {
      "text/plain": [
       "[Monkey3(name='Monkey 0', items=[63, 57], test_div_by=7, operation=<function <lambda> at 0x00000158EF14E050>, true_throw=6, false_throw=2, inspections=0),\n",
       " Monkey3(name='Monkey 1', items=[82, 66, 87, 78, 77, 92, 83], test_div_by=11, operation=<function <lambda> at 0x00000158EF14E290>, true_throw=5, false_throw=0, inspections=0),\n",
       " Monkey3(name='Monkey 2', items=[97, 53, 53, 85, 58, 54], test_div_by=13, operation=<function <lambda> at 0x00000158EF14E0E0>, true_throw=4, false_throw=3, inspections=0),\n",
       " Monkey3(name='Monkey 3', items=[50], test_div_by=3, operation=<function <lambda> at 0x00000158EF14E320>, true_throw=1, false_throw=7, inspections=0),\n",
       " Monkey3(name='Monkey 4', items=[64, 69, 52, 65, 73], test_div_by=17, operation=<function <lambda> at 0x00000158EF14E3B0>, true_throw=3, false_throw=7, inspections=0),\n",
       " Monkey3(name='Monkey 5', items=[57, 91, 65], test_div_by=2, operation=<function <lambda> at 0x00000158EF14E440>, true_throw=0, false_throw=6, inspections=0),\n",
       " Monkey3(name='Monkey 6', items=[67, 91, 84, 78, 60, 69, 99, 83], test_div_by=5, operation=<function <lambda> at 0x00000158EF14E4D0>, true_throw=2, false_throw=4, inspections=0),\n",
       " Monkey3(name='Monkey 7', items=[58, 78, 69, 65], test_div_by=19, operation=<function <lambda> at 0x00000158EF14E560>, true_throw=5, false_throw=1, inspections=0)]"
      ]
     },
     "execution_count": 23,
     "metadata": {},
     "output_type": "execute_result"
    }
   ],
   "source": [
    "monkey_objs"
   ]
  },
  {
   "cell_type": "code",
   "execution_count": 24,
   "id": "ab780042-d2e7-48e1-82fd-d820f78fc3c8",
   "metadata": {
    "tags": []
   },
   "outputs": [],
   "source": [
    "for round in range(10000):\n",
    "    for monkey in monkey_objs:\n",
    "        throws = monkey.turn()\n",
    "        #print(throws)\n",
    "        for throw in throws:\n",
    "            monkey_objs[throw[0]].recieve(throw[1])"
   ]
  },
  {
   "cell_type": "code",
   "execution_count": 25,
   "id": "4b17c925-2f27-4457-a01b-82b34e0eb348",
   "metadata": {
    "tags": []
   },
   "outputs": [
    {
     "data": {
      "text/plain": [
       "[Monkey3(name='Monkey 0', items=[200085], test_div_by=7, operation=<function <lambda> at 0x00000158EF14E050>, true_throw=6, false_throw=2, inspections=25581),\n",
       " Monkey3(name='Monkey 1', items=[2941788, 5706858, 4636337, 9083857], test_div_by=11, operation=<function <lambda> at 0x00000158EF14E290>, true_throw=5, false_throw=0, inspections=33619),\n",
       " Monkey3(name='Monkey 2', items=[], test_div_by=13, operation=<function <lambda> at 0x00000158EF14E0E0>, true_throw=4, false_throw=3, inspections=12275),\n",
       " Monkey3(name='Monkey 3', items=[], test_div_by=3, operation=<function <lambda> at 0x00000158EF14E320>, true_throw=1, false_throw=7, inspections=12262),\n",
       " Monkey3(name='Monkey 4', items=[1888579, 5879874, 1545751, 114139, 3397111, 1849, 1849, 1849, 2116321, 5842411, 7864011, 6940231, 6940231, 3560131, 2877081, 7700991, 4588791, 5869581, 6476341], test_div_by=17, operation=<function <lambda> at 0x00000158EF14E3B0>, true_throw=3, false_throw=7, inspections=161071),\n",
       " Monkey3(name='Monkey 5', items=[5228534, 6110324, 7873904, 6018782, 7692454, 2877094, 845614, 7701004, 6032614, 2877094, 3387244, 646684], test_div_by=2, operation=<function <lambda> at 0x00000158EF14E440>, true_throw=0, false_throw=6, inspections=147894),\n",
       " Monkey3(name='Monkey 6', items=[], test_div_by=5, operation=<function <lambda> at 0x00000158EF14E4D0>, true_throw=2, false_throw=4, inspections=161083),\n",
       " Monkey3(name='Monkey 7', items=[], test_div_by=19, operation=<function <lambda> at 0x00000158EF14E560>, true_throw=5, false_throw=1, inspections=169274)]"
      ]
     },
     "execution_count": 25,
     "metadata": {},
     "output_type": "execute_result"
    }
   ],
   "source": [
    "monkey_objs"
   ]
  },
  {
   "cell_type": "code",
   "execution_count": 26,
   "id": "05b1f1b2-8eee-4b1e-b425-a057ce56a120",
   "metadata": {},
   "outputs": [],
   "source": [
    "insps = []\n",
    "for monkey in monkey_objs:\n",
    "    insps.append(monkey.inspections)"
   ]
  },
  {
   "cell_type": "code",
   "execution_count": 27,
   "id": "fc316e55-bf43-4d33-99a8-64d5f6f2d869",
   "metadata": {},
   "outputs": [
    {
     "data": {
      "text/plain": [
       "27267163742"
      ]
     },
     "execution_count": 27,
     "metadata": {},
     "output_type": "execute_result"
    }
   ],
   "source": [
    "sorted(insps)[-1]*sorted(insps)[-2]"
   ]
  },
  {
   "cell_type": "code",
   "execution_count": null,
   "id": "71f7f975-3740-4afd-a207-d78d8be8786c",
   "metadata": {},
   "outputs": [],
   "source": []
  }
 ],
 "metadata": {
  "kernelspec": {
   "display_name": "Python 3 (ipykernel)",
   "language": "python",
   "name": "python3"
  },
  "language_info": {
   "codemirror_mode": {
    "name": "ipython",
    "version": 3
   },
   "file_extension": ".py",
   "mimetype": "text/x-python",
   "name": "python",
   "nbconvert_exporter": "python",
   "pygments_lexer": "ipython3",
   "version": "3.10.8"
  }
 },
 "nbformat": 4,
 "nbformat_minor": 5
}
