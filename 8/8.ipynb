{
 "cells": [
  {
   "cell_type": "code",
   "execution_count": 1,
   "id": "0b5d16b0-b586-4555-9fff-177ca6b85847",
   "metadata": {},
   "outputs": [],
   "source": [
    "%load_ext autoreload\n",
    "%autoreload 2"
   ]
  },
  {
   "cell_type": "code",
   "execution_count": 2,
   "id": "76f98643-b26d-46e8-bd19-f7c06983504b",
   "metadata": {},
   "outputs": [],
   "source": [
    "import sys\n",
    "sys.path.insert(0,'../code')\n",
    "import utils as ut\n",
    "fn = 'input.txt'"
   ]
  },
  {
   "cell_type": "markdown",
   "id": "f091fe82-7461-4fbf-b9a8-0954f3a77547",
   "metadata": {},
   "source": [
    "## 1"
   ]
  },
  {
   "cell_type": "code",
   "execution_count": 3,
   "id": "3d87f702-f732-415f-9abf-b316227a976d",
   "metadata": {},
   "outputs": [],
   "source": [
    "inp = ut.rl(fn)"
   ]
  },
  {
   "cell_type": "code",
   "execution_count": 4,
   "id": "a4f7173d-154f-42d4-a772-5cc111da97ae",
   "metadata": {},
   "outputs": [],
   "source": [
    "import numpy as np\n",
    "inp = np.array([[int(d) for d in i] for i in inp])"
   ]
  },
  {
   "cell_type": "code",
   "execution_count": 5,
   "id": "a8661f40-fd77-4cc6-bfb4-f3746d0577e7",
   "metadata": {},
   "outputs": [],
   "source": [
    "def num_of_new_max(v):\n",
    "    maxn = 0\n",
    "    num = 0\n",
    "    for val in v:\n",
    "        if val>maxn:\n",
    "            num += 1\n",
    "            maxn = val\n",
    "    if v[0]==0:\n",
    "        num += 1\n",
    "    return num"
   ]
  },
  {
   "cell_type": "code",
   "execution_count": 6,
   "id": "a722aed5-a517-464e-ae76-308f4067414c",
   "metadata": {},
   "outputs": [],
   "source": [
    "def pos_of_new_max(v):\n",
    "    maxn = 0\n",
    "    num = 0\n",
    "    poss = []\n",
    "    for i,val in enumerate(v):\n",
    "        if val>maxn:\n",
    "            num += 1\n",
    "            maxn = val\n",
    "            poss.append(i)\n",
    "    if v[0]==0:\n",
    "        num += 1\n",
    "        poss.append(0)\n",
    "    return poss"
   ]
  },
  {
   "cell_type": "code",
   "execution_count": 7,
   "id": "d2444101-af3d-4bce-8f20-5b01707c6606",
   "metadata": {},
   "outputs": [],
   "source": [
    "coords = []\n",
    "for i in range(inp.shape[0]):\n",
    "    #rows from left\n",
    "    coords.append(list(zip(pos_of_new_max(inp[i,:]),[i]*inp.shape[0])))\n",
    "    #rows from right\n",
    "    coords.append(list(zip(inp.shape[0]-1-np.array(pos_of_new_max(inp[i,:][::-1])),[i]*inp.shape[0])))\n",
    "    #cols from top\n",
    "    coords.append(list(zip([i]*inp.shape[0],pos_of_new_max(inp[:,i]))))\n",
    "    #cols from bottom\n",
    "    coords.append(list(zip([i]*inp.shape[0],inp.shape[0]-1-np.array(pos_of_new_max(inp[:,i][::-1])))))"
   ]
  },
  {
   "cell_type": "code",
   "execution_count": 8,
   "id": "a55527dc-8606-42d0-90f0-3699d5084481",
   "metadata": {},
   "outputs": [],
   "source": [
    "flat_coords = [item for sublist in coords for item in sublist]"
   ]
  },
  {
   "cell_type": "code",
   "execution_count": 9,
   "id": "542eba06-7378-4e1c-a435-f4d1892f6f6a",
   "metadata": {},
   "outputs": [
    {
     "data": {
      "text/plain": [
       "1543"
      ]
     },
     "execution_count": 9,
     "metadata": {},
     "output_type": "execute_result"
    }
   ],
   "source": [
    "len(set(flat_coords))"
   ]
  },
  {
   "cell_type": "markdown",
   "id": "046f040f-f637-48d4-bde3-ffe1ee75f1ec",
   "metadata": {},
   "source": [
    "## 2"
   ]
  },
  {
   "cell_type": "code",
   "execution_count": 10,
   "id": "9706c042-0be6-4d9f-933c-a5b4f678725a",
   "metadata": {},
   "outputs": [],
   "source": [
    "def view_dist(v):\n",
    "    start = v[0]\n",
    "    dist = 0\n",
    "    for val in v[1:]:\n",
    "        if val < start:\n",
    "            dist += 1\n",
    "        else:\n",
    "            dist += 1\n",
    "            break\n",
    "    if len(v) == 1:\n",
    "        return 0\n",
    "    if v[1] >= v[0]:\n",
    "        return 1\n",
    "    return dist"
   ]
  },
  {
   "cell_type": "code",
   "execution_count": 12,
   "id": "4df66720-5b44-47c7-a28a-e9a680b47d57",
   "metadata": {},
   "outputs": [],
   "source": [
    "view_scores = []\n",
    "for i in range(inp.shape[0]):\n",
    "    for j in range(inp.shape[0]):\n",
    "        view_score = \\\n",
    "        view_dist(inp[i:,j]) * \\\n",
    "        view_dist(np.array(inp[:i+1,j])[::-1]) *\\\n",
    "        view_dist(inp[i,j:]) *\\\n",
    "        view_dist(np.array(inp[i,:j+1])[::-1])\n",
    "        view_scores.append(view_score)"
   ]
  },
  {
   "cell_type": "code",
   "execution_count": 14,
   "id": "58851ed5-65dd-4ec7-bd08-9400e64fbb1d",
   "metadata": {},
   "outputs": [
    {
     "data": {
      "text/plain": [
       "595080"
      ]
     },
     "execution_count": 14,
     "metadata": {},
     "output_type": "execute_result"
    }
   ],
   "source": [
    "max(view_scores)"
   ]
  },
  {
   "cell_type": "code",
   "execution_count": null,
   "id": "79400597-4647-4675-9d79-6980efd7a984",
   "metadata": {},
   "outputs": [],
   "source": []
  }
 ],
 "metadata": {
  "kernelspec": {
   "display_name": "Python 3 (ipykernel)",
   "language": "python",
   "name": "python3"
  },
  "language_info": {
   "codemirror_mode": {
    "name": "ipython",
    "version": 3
   },
   "file_extension": ".py",
   "mimetype": "text/x-python",
   "name": "python",
   "nbconvert_exporter": "python",
   "pygments_lexer": "ipython3",
   "version": "3.10.2"
  }
 },
 "nbformat": 4,
 "nbformat_minor": 5
}
