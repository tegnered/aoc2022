{
 "cells": [
  {
   "cell_type": "code",
   "execution_count": 1,
   "id": "0b5d16b0-b586-4555-9fff-177ca6b85847",
   "metadata": {},
   "outputs": [],
   "source": [
    "%load_ext autoreload\n",
    "%autoreload 2"
   ]
  },
  {
   "cell_type": "code",
   "execution_count": 2,
   "id": "76f98643-b26d-46e8-bd19-f7c06983504b",
   "metadata": {},
   "outputs": [],
   "source": [
    "import sys\n",
    "sys.path.insert(0,'../code')\n",
    "import utils as ut\n",
    "fn = 'input.txt'"
   ]
  },
  {
   "cell_type": "markdown",
   "id": "f091fe82-7461-4fbf-b9a8-0954f3a77547",
   "metadata": {},
   "source": [
    "## 1"
   ]
  },
  {
   "cell_type": "code",
   "execution_count": 3,
   "id": "3d87f702-f732-415f-9abf-b316227a976d",
   "metadata": {},
   "outputs": [],
   "source": [
    "inp = ut.rl(fn)"
   ]
  },
  {
   "cell_type": "code",
   "execution_count": 4,
   "id": "0948b9a1-ff5a-42c5-a8da-05433ce6a31e",
   "metadata": {},
   "outputs": [],
   "source": [
    "import pandas as pd"
   ]
  },
  {
   "cell_type": "code",
   "execution_count": 5,
   "id": "067d9acb-75d8-4921-a642-276127648713",
   "metadata": {},
   "outputs": [],
   "source": [
    "df = pd.DataFrame(inp)"
   ]
  },
  {
   "cell_type": "code",
   "execution_count": 6,
   "id": "03aaa327-fb08-41d6-a374-700942d20d8e",
   "metadata": {},
   "outputs": [
    {
     "data": {
      "text/plain": [
       "array(['A X', 'A Z', 'B X', 'C Y', 'C Z', 'A Y', 'B Z', 'B Y', 'C X'],\n",
       "      dtype=object)"
      ]
     },
     "execution_count": 6,
     "metadata": {},
     "output_type": "execute_result"
    }
   ],
   "source": [
    "df[0].unique()"
   ]
  },
  {
   "cell_type": "code",
   "execution_count": 7,
   "id": "262f2e74-4fc4-4bd0-8608-f1e5a53889e8",
   "metadata": {},
   "outputs": [],
   "source": [
    "wins = {'A X':3, 'A Z':0, 'B X':0, 'C Y':0, 'C Z':3, 'A Y':6, 'B Z':6, 'B Y':3, 'C X':6}\n",
    "shape = {'X':1,'Y':2,'Z':3}"
   ]
  },
  {
   "cell_type": "code",
   "execution_count": 8,
   "id": "dd219dff-2d75-4ebd-983b-ec6cff3c266f",
   "metadata": {},
   "outputs": [],
   "source": [
    "totscore = 0\n",
    "for rnd in inp:\n",
    "    score = wins[rnd] + shape[rnd[2]]\n",
    "    totscore += score"
   ]
  },
  {
   "cell_type": "code",
   "execution_count": 9,
   "id": "56c47f82-d909-4fb0-be9b-e49376e231dc",
   "metadata": {},
   "outputs": [
    {
     "data": {
      "text/plain": [
       "8890"
      ]
     },
     "execution_count": 9,
     "metadata": {},
     "output_type": "execute_result"
    }
   ],
   "source": [
    "totscore"
   ]
  },
  {
   "cell_type": "markdown",
   "id": "046f040f-f637-48d4-bde3-ffe1ee75f1ec",
   "metadata": {},
   "source": [
    "## 2"
   ]
  },
  {
   "cell_type": "code",
   "execution_count": 16,
   "id": "15161781-9a10-494b-bda0-208337e12423",
   "metadata": {},
   "outputs": [],
   "source": [
    "responses = ['X','Y','Z']\n",
    "scores = {'X':0,'Y':3,'Z':6}\n",
    "totscore = sum([scores[rnd[2]] + shape[responses[[wins[rnd[:2] + resp] for resp in responses].index(scores[rnd[2]])]] for rnd in inp])"
   ]
  },
  {
   "cell_type": "code",
   "execution_count": 15,
   "id": "38d9c8c3-60c8-4447-be67-2e9938d1fa14",
   "metadata": {},
   "outputs": [
    {
     "data": {
      "text/plain": [
       "10238"
      ]
     },
     "execution_count": 15,
     "metadata": {},
     "output_type": "execute_result"
    }
   ],
   "source": [
    "totscore"
   ]
  }
 ],
 "metadata": {
  "kernelspec": {
   "display_name": "Python 3 (ipykernel)",
   "language": "python",
   "name": "python3"
  },
  "language_info": {
   "codemirror_mode": {
    "name": "ipython",
    "version": 3
   },
   "file_extension": ".py",
   "mimetype": "text/x-python",
   "name": "python",
   "nbconvert_exporter": "python",
   "pygments_lexer": "ipython3",
   "version": "3.10.2"
  }
 },
 "nbformat": 4,
 "nbformat_minor": 5
}
